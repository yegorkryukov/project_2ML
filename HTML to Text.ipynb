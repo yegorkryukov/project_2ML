{
 "cells": [
  {
   "cell_type": "code",
   "execution_count": 1,
   "metadata": {
    "collapsed": true
   },
   "outputs": [],
   "source": [
    "# Dependencies\n",
    "import re\n",
    "import pymongo"
   ]
  },
  {
   "cell_type": "code",
   "execution_count": 2,
   "metadata": {
    "collapsed": true
   },
   "outputs": [],
   "source": [
    "# Initialize PyMongo to work with MongoDBs\n",
    "conn = 'mongodb://localhost:27017'\n",
    "client = pymongo.MongoClient(conn)"
   ]
  },
  {
   "cell_type": "code",
   "execution_count": 3,
   "metadata": {
    "collapsed": true
   },
   "outputs": [],
   "source": [
    "# Get database from Mongo\n",
    "db = client.wsj_db #####ENTER MONGO DB NAME HERE#####"
   ]
  },
  {
   "cell_type": "code",
   "execution_count": 4,
   "metadata": {
    "collapsed": true
   },
   "outputs": [],
   "source": [
    "# Get all documents from collection\n",
    "documents = db.HTML_pages.find()"
   ]
  },
  {
   "cell_type": "code",
   "execution_count": 5,
   "metadata": {},
   "outputs": [
    {
     "data": {
      "text/plain": [
       "4884"
      ]
     },
     "execution_count": 5,
     "metadata": {},
     "output_type": "execute_result"
    }
   ],
   "source": [
    "# Show how many documents in collection\n",
    "documents.count()"
   ]
  },
  {
   "cell_type": "code",
   "execution_count": 6,
   "metadata": {},
   "outputs": [
    {
     "name": "stdout",
     "output_type": "stream",
     "text": [
      "942756\n"
     ]
    }
   ],
   "source": [
    "#### PRINTS OUT THE NUMBER OF WORDS IN THE DATABASE ####\n",
    "\n",
    "# Initialize word counter to zero\n",
    "word_count = 0\n",
    "\n",
    "# Loop through all documents in collection\n",
    "for i in range(0,documents.count()):\n",
    "    \n",
    "    # Grab the HTML\n",
    "    html = documents[i]['html']\n",
    "    \n",
    "    # Extract only text between <p> and </p> tags (returns a list of strings)\n",
    "    paragraphs = re.findall('<p>(.+?)</p>', html)\n",
    "    \n",
    "    # Combine list of strings into one string\n",
    "    paragraph = \" \".join(paragraphs)\n",
    "    \n",
    "    # Remove tags and unwanted characters\n",
    "    clean_paragraph = re.sub('<[^>]+>', '', paragraph)\n",
    "    clean_paragraph = re.sub('&quot;', '', clean_paragraph)\n",
    "    clean_paragraph = re.sub('&nbsp;', '', clean_paragraph)\n",
    "    clean_paragraph = re.sub('&#8217;', '', clean_paragraph)\n",
    "    clean_paragraph = re.sub('&#8220;', '', clean_paragraph)\n",
    "    clean_paragraph = re.sub('&#8221;', '', clean_paragraph)\n",
    "    clean_paragraph = re.sub('&#8211;', '', clean_paragraph)\n",
    "    clean_paragraph = re.sub('&#8230;', '', clean_paragraph)\n",
    "    clean_paragraph = re.sub('&copy;', '', clean_paragraph)\n",
    "    \n",
    "    # Print clean text\n",
    "    #print(clean_paragraph)\n",
    "    \n",
    "    #### THE NEXT FOUR COMMANDS CREATE A NEW COLLECTION OF TEXT AND ADD IT TO THE DB ####\n",
    "    \n",
    "    # Create collection to store url and text\n",
    "    #textCollection = db.text_pages\n",
    "    \n",
    "    # Get url from document\n",
    "    #url = documents[i]['url']\n",
    "    \n",
    "    # Create dictionary to insert into text collection\n",
    "    #data = {\n",
    "    #    \"url\": url, \n",
    "    #    \"text\": clean_paragraph, \n",
    "    #    }\n",
    "    \n",
    "    # Insert the dictionary into the collection\n",
    "    #textCollection.insert_one(data)\n",
    "    \n",
    "    # Increase word counter\n",
    "    word_count += len(clean_paragraph.split())\n",
    "    \n",
    "# Print how many words\n",
    "print(word_count)"
   ]
  },
  {
   "cell_type": "code",
   "execution_count": 8,
   "metadata": {},
   "outputs": [
    {
     "name": "stdout",
     "output_type": "stream",
     "text": [
      "2522\n"
     ]
    }
   ],
   "source": [
    "# Count how many urls are articles\n",
    "\n",
    "article_count = 0\n",
    "\n",
    "for i in range(0,documents.count()):\n",
    "    url = documents[i]['url']\n",
    "    #print(url)\n",
    "    if 'articles' in url:\n",
    "        article_count += 1\n",
    "        \n",
    "print(article_count)"
   ]
  },
  {
   "cell_type": "code",
   "execution_count": 10,
   "metadata": {
    "collapsed": true
   },
   "outputs": [],
   "source": [
    "# HTML from document\n",
    "html = documents[3]['html']"
   ]
  },
  {
   "cell_type": "code",
   "execution_count": 11,
   "metadata": {
    "collapsed": true
   },
   "outputs": [],
   "source": [
    "# Find all paragraphs in HTML\n",
    "paragraphs = re.findall('<p>(.+?)</p>', html)"
   ]
  },
  {
   "cell_type": "code",
   "execution_count": 12,
   "metadata": {
    "collapsed": true
   },
   "outputs": [],
   "source": [
    "# Concatenate all strings in list to one long string\n",
    "paragraph = \" \".join(paragraphs)"
   ]
  },
  {
   "cell_type": "code",
   "execution_count": null,
   "metadata": {
    "collapsed": true
   },
   "outputs": [],
   "source": [
    "paragraph"
   ]
  },
  {
   "cell_type": "code",
   "execution_count": null,
   "metadata": {
    "collapsed": true
   },
   "outputs": [],
   "source": [
    "# Remove all tags from string\n",
    "clean_paragraph = re.sub('<[^>]+>', '', paragraph)\n",
    "clean_paragraph = re.sub('&quot;', '', clean_paragraph)\n",
    "clean_paragraph = re.sub('&nbsp;', '', clean_paragraph)\n",
    "\n",
    "# Remove punctuation from paragraph\n",
    "#clean_paragraph = re.sub('[,:?$!\"–.]', '', clean_paragraph)\n",
    "\n",
    "clean_paragraph"
   ]
  },
  {
   "cell_type": "code",
   "execution_count": 17,
   "metadata": {},
   "outputs": [
    {
     "data": {
      "text/plain": [
       "752"
      ]
     },
     "execution_count": 17,
     "metadata": {},
     "output_type": "execute_result"
    }
   ],
   "source": [
    "# Print number of words in paragraph\n",
    "len(clean_paragraph.split())"
   ]
  },
  {
   "cell_type": "code",
   "execution_count": 22,
   "metadata": {
    "collapsed": true
   },
   "outputs": [],
   "source": [
    "# Create collection to store url and text\n",
    "textCollection = db.text_pages"
   ]
  },
  {
   "cell_type": "code",
   "execution_count": 19,
   "metadata": {
    "collapsed": true
   },
   "outputs": [],
   "source": [
    "# Get url from document\n",
    "url = documents[3]['url']"
   ]
  },
  {
   "cell_type": "code",
   "execution_count": 20,
   "metadata": {
    "collapsed": true
   },
   "outputs": [],
   "source": [
    "# Create data dictionary to insert into Mongo\n",
    "data = {\n",
    "        \"url\": url, \n",
    "        \"text\": clean_paragraph, \n",
    "        }"
   ]
  },
  {
   "cell_type": "code",
   "execution_count": 23,
   "metadata": {},
   "outputs": [
    {
     "data": {
      "text/plain": [
       "<pymongo.results.InsertOneResult at 0x1c27e8eef48>"
      ]
     },
     "execution_count": 23,
     "metadata": {},
     "output_type": "execute_result"
    }
   ],
   "source": [
    "# Insert data dictionary into database\n",
    "textCollection.insert_one(data)"
   ]
  },
  {
   "cell_type": "code",
   "execution_count": null,
   "metadata": {
    "collapsed": true
   },
   "outputs": [],
   "source": []
  }
 ],
 "metadata": {
  "kernelspec": {
   "display_name": "Python 3",
   "language": "python",
   "name": "python3"
  },
  "language_info": {
   "codemirror_mode": {
    "name": "ipython",
    "version": 3
   },
   "file_extension": ".py",
   "mimetype": "text/x-python",
   "name": "python",
   "nbconvert_exporter": "python",
   "pygments_lexer": "ipython3",
   "version": "3.6.3"
  }
 },
 "nbformat": 4,
 "nbformat_minor": 2
}
