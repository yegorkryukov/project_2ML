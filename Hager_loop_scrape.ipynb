{
 "cells": [
  {
   "cell_type": "code",
   "execution_count": 1,
   "metadata": {},
   "outputs": [],
   "source": [
    "# dependencies\n",
    "import pymongo as pm\n",
    "import urllib\n",
    "from scrape import Scrape as sc\n",
    "from pprint import pprint\n",
    "from bs4 import BeautifulSoup as bs\n",
    "import re\n",
    "import time"
   ]
  },
  {
   "cell_type": "code",
   "execution_count": 2,
   "metadata": {},
   "outputs": [],
   "source": [
    "# Initialize PyMongo to work with MongoDBs\n",
    "conn = 'mongodb://localhost:27017'\n",
    "client = pm.MongoClient(conn)"
   ]
  },
  {
   "cell_type": "code",
   "execution_count": 20,
   "metadata": {},
   "outputs": [],
   "source": [
    "# define db and collections\n",
    "DB_NAME = 'scrape'\n",
    "db = client[DB_NAME]\n",
    "\n",
    "# this collection will store all the HTML pages\n",
    "COL_NAME = 'col_html'\n",
    "htmlCollection = db[COL_NAME]"
   ]
  },
  {
   "cell_type": "code",
   "execution_count": 21,
   "metadata": {},
   "outputs": [
    {
     "name": "stdout",
     "output_type": "stream",
     "text": [
      "2018-06-16T11:03:08.047-0400\tconnected to: localhost\n",
      "2018-06-16T11:03:11.034-0400\t[##########..............] scrape.col_html\t369MB/828MB (44.5%)\n",
      "2018-06-16T11:03:14.034-0400\t[####################....] scrape.col_html\t710MB/828MB (85.7%)\n",
      "2018-06-16T11:03:15.205-0400\t[########################] scrape.col_html\t828MB/828MB (100.0%)\n",
      "2018-06-16T11:03:15.205-0400\timported 4768 documents\n"
     ]
    }
   ],
   "source": [
    "# import db into local mongo instance\n",
    "\n",
    "PATH = 'drive/NR_DailyB_Intercept_VG.json'\n",
    "\n",
    "!mongoimport --db {DB_NAME} --collection {COL_NAME} --file {PATH} --batchSize 1"
   ]
  },
  {
   "cell_type": "code",
   "execution_count": 6,
   "metadata": {
    "collapsed": true
   },
   "outputs": [],
   "source": [
    "# startURL = 'http://books.toscrape.com/'\n",
    "# domain = 'toscrape.com'\n",
    "\n",
    "# declare top-level url and domain\n",
    "# startURL = 'https://billypenn.com/'\n",
    "# domain = 'billypenn.com'\n",
    "\n",
    "# startURL = 'https://theintercept.com/'\n",
    "# domain = 'theintercept.com'\n",
    "\n",
    "startURL = 'http://www.motherjones.com/'\n",
    "domain = 'www.motherjones.com'\n",
    "\n",
    "# establish necessary data structures\n",
    "done_urls = set()\n",
    "external_urls = []\n",
    "urls = set()\n",
    "pagelinks = set()\n",
    "\n",
    "# seed with top-level url of website\n",
    "urls.add(startURL)"
   ]
  },
  {
   "cell_type": "code",
   "execution_count": 7,
   "metadata": {
    "scrolled": true
   },
   "outputs": [
    {
     "name": "stdout",
     "output_type": "stream",
     "text": [
      "URL in for loop:  http://www.motherjones.com/\n",
      "ScrapeHTML: HTTPConnectionPool(host='www.motherjones.com', port=80): Max retries exceeded with url: / (Caused by NewConnectionError('<urllib3.connection.HTTPConnection object at 0x0000020D61E845C0>: Failed to establish a new connection: [WinError 10060] A connection attempt failed because the connected party did not properly respond after a period of time, or established connection failed because connected host has failed to respond',))\n",
      "Elapsed time: 26.012712717056274\n",
      "Main Loop: HTML not extracted\n",
      "\n",
      "Number of Urls: 1\n",
      "Process Time: 26.012712717056274\n",
      "--------------------------------------------------------------\n",
      "done_urls:  0\n",
      "(urls - done_urls):  1\n",
      "LOOP counter:  1\n",
      "--------------------\n",
      "URL in for loop:  http://www.motherjones.com/\n",
      "Elapsed time: 8.270049333572388\n",
      "Extracted links: 116\n",
      "\n",
      "Number of Urls: 1\n",
      "Process Time: 8.381651878356934\n",
      "--------------------------------------------------------------\n",
      "done_urls:  1\n",
      "(urls - done_urls):  97\n",
      "LOOP counter:  2\n",
      "--------------------\n"
     ]
    }
   ],
   "source": [
    "# counter for limiting functions\n",
    "ctr = 0\n",
    "\n",
    "# continue to loop through urls until we have scraped all valid\n",
    "# needed a while loop so we can modify size of urls through process\n",
    "while (len(urls) > 0) and ctr < 2:    #(len(done_urls) < 200):\n",
    "    \n",
    "    # timer for performance across url loops\n",
    "    forStart = time.time()\n",
    "    \n",
    "    # go through every url that has not been scraped yet\n",
    "    for url in urls:\n",
    "        print(\"URL in for loop: \", url)\n",
    "        \n",
    "        # timer for performance\n",
    "        start = time.time()\n",
    "        \n",
    "        # governor to avoid being banned/blocked\n",
    "        time.sleep(5)   # time governor\n",
    "        \n",
    "        # check for email and run all other links through scrape\n",
    "        html = sc.scrapeHTML(url)\n",
    "        \n",
    "        # end timer for performance and print status\n",
    "        end = time.time()\n",
    "        print(f'Elapsed time: {end - start}')\n",
    "        \n",
    "        # validate html and then add to the pagelinks all the links that were scraped\n",
    "        if html: \n",
    "            #print(f'Html scraped: {html[:50]}')\n",
    "            data = {\n",
    "                \"url\": url, \n",
    "                \"html\": html, \n",
    "                }\n",
    "\n",
    "            # insert dict into db document\n",
    "            htmlCollection.insert_one(data)\n",
    "            \n",
    "            # record url in \"done\" collection\n",
    "            done_urls.add(url)\n",
    "            \n",
    "            pagelinks = pagelinks.union(sc.scrapeURL(html, url))\n",
    "            print(f'Extracted links: {len(pagelinks)}')\n",
    "        else:\n",
    "            print(f'Main Loop: HTML not extracted')\n",
    "        \n",
    "        ####################################################\n",
    "        # TODO: update done_urls, external and urls to CSV #\n",
    "        ####################################################\n",
    "        \n",
    "    # end timer of for loop\n",
    "    forEnd = time.time()\n",
    "    \n",
    "    # print status for testing\n",
    "    print()\n",
    "    print(f'Number of Urls: {len(urls)}')\n",
    "    print(f'Process Time: {forEnd -forStart}')\n",
    "    print('--------------------------------------------------------------')\n",
    "        \n",
    "        \n",
    "    \n",
    "    # add links from page to urls set outside of for loop\n",
    "    if html:\n",
    "        for link in pagelinks:\n",
    "            if domain in link:\n",
    "                urls.add(link)\n",
    "                # print(f\"Link in pagelinks: {link}\")\n",
    "            else:\n",
    "                external_urls.append(link)\n",
    "    \n",
    "    # remove done_urls from todo urls and increment counter\n",
    "    urls -= done_urls\n",
    "    ctr += 1\n",
    "    \n",
    "    # print status for testing\n",
    "    print(\"done_urls: \", len(done_urls))\n",
    "    print(\"(urls - done_urls): \", len(urls))\n",
    "    print(\"LOOP counter: \", ctr)\n",
    "    print(\"--------------------\")\n"
   ]
  },
  {
   "cell_type": "code",
   "execution_count": null,
   "metadata": {},
   "outputs": [],
   "source": []
  }
 ],
 "metadata": {
  "kernelspec": {
   "display_name": "Python 3",
   "language": "python",
   "name": "python3"
  },
  "language_info": {
   "codemirror_mode": {
    "name": "ipython",
    "version": 3
   },
   "file_extension": ".py",
   "mimetype": "text/x-python",
   "name": "python",
   "nbconvert_exporter": "python",
   "pygments_lexer": "ipython3",
   "version": "3.6.5"
  },
  "varInspector": {
   "cols": {
    "lenName": 16,
    "lenType": 16,
    "lenVar": 40
   },
   "kernels_config": {
    "python": {
     "delete_cmd_postfix": "",
     "delete_cmd_prefix": "del ",
     "library": "var_list.py",
     "varRefreshCmd": "print(var_dic_list())"
    },
    "r": {
     "delete_cmd_postfix": ") ",
     "delete_cmd_prefix": "rm(",
     "library": "var_list.r",
     "varRefreshCmd": "cat(var_dic_list()) "
    }
   },
   "types_to_exclude": [
    "module",
    "function",
    "builtin_function_or_method",
    "instance",
    "_Feature"
   ],
   "window_display": false
  }
 },
 "nbformat": 4,
 "nbformat_minor": 2
}
