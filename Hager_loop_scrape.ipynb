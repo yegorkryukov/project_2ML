{
 "cells": [
  {
   "cell_type": "code",
   "execution_count": 1,
   "metadata": {},
   "outputs": [],
   "source": [
    "import pymongo as pm\n",
    "import urllib\n",
    "from Scrape import Scrape as sc\n",
    "from pprint import pprint\n",
    "from bs4 import BeautifulSoup as bs\n",
    "import re"
   ]
  },
  {
   "cell_type": "code",
   "execution_count": 2,
   "metadata": {
    "collapsed": true
   },
   "outputs": [],
   "source": [
    "# Initialize PyMongo to work with MongoDBs\n",
    "conn = 'mongodb://localhost:27017'\n",
    "client = pm.MongoClient(conn)"
   ]
  },
  {
   "cell_type": "code",
   "execution_count": 3,
   "metadata": {
    "collapsed": true
   },
   "outputs": [],
   "source": [
    "# define db and collections\n",
    "db = client.scrape_db\n",
    "\n",
    "# this collection will store all the HTML pages\n",
    "htmlCollection = db.HTML_pages"
   ]
  },
  {
   "cell_type": "code",
   "execution_count": 4,
   "metadata": {
    "collapsed": true
   },
   "outputs": [],
   "source": [
    "startURL = 'http://books.toscrape.com/'\n",
    "done_urls = set()\n",
    "\n",
    "urls = set()\n",
    "pagelinks = set()\n",
    "\n",
    "urls.add(startURL)"
   ]
  },
  {
   "cell_type": "code",
   "execution_count": 5,
   "metadata": {},
   "outputs": [
    {
     "name": "stdout",
     "output_type": "stream",
     "text": [
      "URL in for loop:  http://books.toscrape.com/\n",
      "urls:  74\n",
      "done_urls:  1\n",
      "(urls - done_urls):  73\n",
      "LOOP counter:  1\n",
      "--------------------\n",
      "URL in for loop:  http://books.toscrape.com/catalogue/category/books/business_35/index.html\n",
      "URL in for loop:  http://books.toscrape.com/catalogue/category/books/poetry_23/index.html\n",
      "URL in for loop:  http://books.toscrape.com/catalogue/category/books/historical_42/index.html\n",
      "URL in for loop:  http://books.toscrape.com/catalogue/the-dirty-little-secrets-of-getting-your-dream-job_994/index.html\n",
      "URL in for loop:  http://books.toscrape.com/catalogue/category/books/historical-fiction_4/index.html\n",
      "URL in for loop:  http://books.toscrape.com/catalogue/category/books/fantasy_19/index.html\n",
      "URL in for loop:  http://books.toscrape.com/catalogue/category/books/cultural_49/index.html\n",
      "URL in for loop:  http://books.toscrape.com/catalogue/category/books/christian_43/index.html\n",
      "URL in for loop:  http://books.toscrape.com/catalogue/a-light-in-the-attic_1000/index.html\n",
      "URL in for loop:  http://books.toscrape.com/catalogue/category/books/mystery_3/index.html\n",
      "URL in for loop:  http://books.toscrape.com/catalogue/category/books/contemporary_38/index.html\n",
      "URL in for loop:  http://books.toscrape.com/catalogue/category/books/nonfiction_13/index.html\n",
      "URL in for loop:  http://books.toscrape.com/catalogue/category/books/sequential-art_5/index.html\n",
      "URL in for loop:  http://books.toscrape.com/catalogue/category/books/politics_48/index.html\n",
      "URL in for loop:  http://books.toscrape.com/catalogue/sharp-objects_997/index.html\n",
      "URL in for loop:  http://books.toscrape.com/catalogue/category/books/academic_40/index.html\n",
      "URL in for loop:  http://books.toscrape.com/catalogue/category/books/adult-fiction_29/index.html\n",
      "URL in for loop:  http://books.toscrape.com/catalogue/page-2.html\n",
      "URL in for loop:  http://books.toscrape.com/catalogue/category/books/paranormal_24/index.html\n",
      "URL in for loop:  http://books.toscrape.com/catalogue/our-band-could-be-your-life-scenes-from-the-american-indie-underground-1981-1991_985/index.html\n",
      "URL in for loop:  http://books.toscrape.com/catalogue/the-requiem-red_995/index.html\n",
      "URL in for loop:  http://books.toscrape.com/catalogue/set-me-free_988/index.html\n",
      "URL in for loop:  http://books.toscrape.com/catalogue/category/books/religion_12/index.html\n",
      "URL in for loop:  http://books.toscrape.com/catalogue/category/books/parenting_28/index.html\n",
      "URL in for loop:  http://books.toscrape.com/catalogue/category/books/new-adult_20/index.html\n",
      "URL in for loop:  http://books.toscrape.com/catalogue/category/books/sports-and-games_17/index.html\n",
      "URL in for loop:  http://books.toscrape.com/catalogue/category/books/health_47/index.html\n",
      "URL in for loop:  http://books.toscrape.com/catalogue/the-black-maria_991/index.html\n",
      "URL in for loop:  http://books.toscrape.com/catalogue/category/books/science-fiction_16/index.html\n",
      "URL in for loop:  http://books.toscrape.com/catalogue/category/books/womens-fiction_9/index.html\n",
      "URL in for loop:  http://books.toscrape.com/catalogue/category/books/travel_2/index.html\n",
      "URL in for loop:  http://books.toscrape.com/catalogue/scott-pilgrims-precious-little-life-scott-pilgrim-1_987/index.html\n",
      "URL in for loop:  http://books.toscrape.com/catalogue/libertarianism-for-beginners_982/index.html\n",
      "URL in for loop:  http://books.toscrape.com/catalogue/starving-hearts-triangular-trade-trilogy-1_990/index.html\n",
      "URL in for loop:  http://books.toscrape.com/catalogue/category/books/fiction_10/index.html\n",
      "URL in for loop:  http://books.toscrape.com/catalogue/category/books_1/index.html\n",
      "URL in for loop:  http://books.toscrape.com/catalogue/category/books/food-and-drink_33/index.html\n",
      "URL in for loop:  http://books.toscrape.com/catalogue/category/books/thriller_37/index.html\n",
      "URL in for loop:  http://books.toscrape.com/catalogue/category/books/romance_8/index.html\n",
      "URL in for loop:  http://books.toscrape.com/catalogue/the-boys-in-the-boat-nine-americans-and-their-epic-quest-for-gold-at-the-1936-berlin-olympics_992/index.html\n",
      "URL in for loop:  http://books.toscrape.com/catalogue/shakespeares-sonnets_989/index.html\n",
      "URL in for loop:  http://books.toscrape.com/catalogue/its-only-the-himalayas_981/index.html\n",
      "URL in for loop:  http://books.toscrape.com/catalogue/category/books/crime_51/index.html\n",
      "URL in for loop:  http://books.toscrape.com/catalogue/category/books/horror_31/index.html\n",
      "URL in for loop:  http://books.toscrape.com/catalogue/category/books/biography_36/index.html\n",
      "URL in for loop:  http://books.toscrape.com/catalogue/category/books/music_14/index.html\n",
      "URL in for loop:  http://books.toscrape.com/catalogue/category/books/add-a-comment_18/index.html\n",
      "URL in for loop:  http://books.toscrape.com/catalogue/category/books/science_22/index.html\n",
      "URL in for loop:  http://books.toscrape.com/catalogue/category/books/psychology_26/index.html\n",
      "URL in for loop:  http://books.toscrape.com/catalogue/soumission_998/index.html\n",
      "URL in for loop:  http://books.toscrape.com/catalogue/category/books/history_32/index.html\n",
      "URL in for loop:  http://books.toscrape.com/catalogue/category/books/suspense_44/index.html\n",
      "URL in for loop:  http://books.toscrape.com/catalogue/tipping-the-velvet_999/index.html\n",
      "URL in for loop:  http://books.toscrape.com/index.html\n",
      "URL in for loop:  http://books.toscrape.com/catalogue/mesaerion-the-best-science-fiction-stories-1800-1849_983/index.html\n",
      "URL in for loop:  http://books.toscrape.com/catalogue/category/books/autobiography_27/index.html\n",
      "URL in for loop:  http://books.toscrape.com/catalogue/category/books/spirituality_39/index.html\n",
      "URL in for loop:  http://books.toscrape.com/catalogue/category/books/childrens_11/index.html\n",
      "URL in for loop:  http://books.toscrape.com/catalogue/category/books/self-help_41/index.html\n",
      "URL in for loop:  http://books.toscrape.com/catalogue/category/books/classics_6/index.html\n",
      "URL in for loop:  http://books.toscrape.com/catalogue/category/books/novels_46/index.html\n",
      "URL in for loop:  http://books.toscrape.com/catalogue/category/books/humor_30/index.html\n",
      "URL in for loop:  http://books.toscrape.com/catalogue/category/books/erotica_50/index.html\n",
      "URL in for loop:  http://books.toscrape.com/catalogue/sapiens-a-brief-history-of-humankind_996/index.html\n",
      "URL in for loop:  http://books.toscrape.com/catalogue/the-coming-woman-a-novel-based-on-the-life-of-the-infamous-feminist-victoria-woodhull_993/index.html\n",
      "URL in for loop:  http://books.toscrape.com/catalogue/olio_984/index.html\n",
      "URL in for loop:  http://books.toscrape.com/catalogue/category/books/philosophy_7/index.html\n",
      "URL in for loop:  http://books.toscrape.com/catalogue/rip-it-up-and-start-again_986/index.html\n",
      "URL in for loop:  http://books.toscrape.com/catalogue/category/books/christian-fiction_34/index.html\n",
      "URL in for loop:  http://books.toscrape.com/catalogue/category/books/young-adult_21/index.html\n",
      "URL in for loop:  http://books.toscrape.com/catalogue/category/books/short-stories_45/index.html\n",
      "URL in for loop:  http://books.toscrape.com/catalogue/category/books/art_25/index.html\n",
      "URL in for loop:  http://books.toscrape.com/catalogue/category/books/default_15/index.html\n",
      "urls:  145\n",
      "done_urls:  74\n",
      "(urls - done_urls):  72\n",
      "LOOP counter:  2\n",
      "--------------------\n",
      "URL in for loop:  http://books.toscrape.com/../philosophy_7/index.html\n",
      "URL in for loop:  http://books.toscrape.com/../../../penny-maybe_965/index.html\n",
      "URL in for loop:  http://books.toscrape.com/../psychology_26/index.html\n",
      "URL in for loop:  http://books.toscrape.com/../science_22/index.html\n",
      "URL in for loop:  http://books.toscrape.com/../sports-and-games_17/index.html\n",
      "URL in for loop:  http://books.toscrape.com/../self-help_41/index.html\n",
      "URL in for loop:  http://books.toscrape.com/../autobiography_27/index.html\n",
      "URL in for loop:  http://books.toscrape.com/../sequential-art_5/index.html\n",
      "URL in for loop:  http://books.toscrape.com/../academic_40/index.html\n",
      "URL in for loop:  http://books.toscrape.com/../science-fiction_16/index.html\n",
      "URL in for loop:  http://books.toscrape.com/../crime_51/index.html\n",
      "URL in for loop:  http://books.toscrape.com/../../../soul-reader_926/index.html\n",
      "URL in for loop:  http://books.toscrape.com/../../books_1/index.html\n",
      "URL in for loop:  http://books.toscrape.com/../../../the-psychopath-test-a-journey-through-the-madness-industry_857/index.html\n"
     ]
    },
    {
     "name": "stdout",
     "output_type": "stream",
     "text": [
      "URL in for loop:  http://books.toscrape.com/../religion_12/index.html\n",
      "URL in for loop:  http://books.toscrape.com/../adult-fiction_29/index.html\n",
      "URL in for loop:  http://books.toscrape.com/../new-adult_20/index.html\n",
      "URL in for loop:  http://books.toscrape.com/../fiction_10/index.html\n",
      "URL in for loop:  http://books.toscrape.com/../../../aladdin-and-his-wonderful-lamp_973/index.html\n",
      "URL in for loop:  http://books.toscrape.com/page-2.html\n",
      "URL in for loop:  http://books.toscrape.com/../../../the-secret-the-secret-1_859/index.html\n",
      "URL in for loop:  http://books.toscrape.com/../../../the-emerald-mystery_842/index.html\n",
      "URL in for loop:  http://books.toscrape.com/../womens-fiction_9/index.html\n",
      "URL in for loop:  http://books.toscrape.com/../humor_30/index.html\n",
      "URL in for loop:  http://books.toscrape.com/../thriller_37/index.html\n",
      "URL in for loop:  http://books.toscrape.com/../../../the-bridge-to-consciousness-im-writing-the-bridge-between-science-and-our-old-and-new-beliefs_840/index.html\n",
      "URL in for loop:  http://books.toscrape.com/../../../../index.html\n",
      "URL in for loop:  http://books.toscrape.com/../food-and-drink_33/index.html\n",
      "URL in for loop:  http://books.toscrape.com/../../../a-world-of-flavor-your-gluten-free-passport_879/index.html\n",
      "URL in for loop:  http://books.toscrape.com/../biography_36/index.html\n",
      "URL in for loop:  http://books.toscrape.com/../business_35/index.html\n",
      "URL in for loop:  http://books.toscrape.com/../../../starving-hearts-triangular-trade-trilogy-1_990/index.html\n",
      "URL in for loop:  http://books.toscrape.com/../health_47/index.html\n",
      "URL in for loop:  http://books.toscrape.com/../fantasy_19/index.html\n",
      "URL in for loop:  http://books.toscrape.com/../mystery_3/index.html\n",
      "URL in for loop:  http://books.toscrape.com/../contemporary_38/index.html\n",
      "URL in for loop:  http://books.toscrape.com/../history_32/index.html\n",
      "URL in for loop:  http://books.toscrape.com/../travel_2/index.html\n",
      "URL in for loop:  http://books.toscrape.com/../horror_31/index.html\n",
      "URL in for loop:  http://books.toscrape.com/../novels_46/index.html\n",
      "URL in for loop:  http://books.toscrape.com/../historical_42/index.html\n",
      "URL in for loop:  http://books.toscrape.com/../music_14/index.html\n",
      "URL in for loop:  http://books.toscrape.com/../cultural_49/index.html\n",
      "URL in for loop:  http://books.toscrape.com/../../../a-piece-of-sky-a-grain-of-rice-a-memoir-in-four-meditations_878/index.html\n",
      "URL in for loop:  http://books.toscrape.com/../politics_48/index.html\n",
      "URL in for loop:  http://books.toscrape.com/../historical-fiction_4/index.html\n",
      "URL in for loop:  http://books.toscrape.com/../christian-fiction_34/index.html\n",
      "URL in for loop:  http://books.toscrape.com/../../../the-boys-in-the-boat-nine-americans-and-their-epic-quest-for-gold-at-the-1936-berlin-olympics_992/index.html\n",
      "URL in for loop:  http://books.toscrape.com/../../../tracing-numbers-on-a-train_869/index.html\n",
      "URL in for loop:  http://books.toscrape.com/../add-a-comment_18/index.html\n",
      "URL in for loop:  http://books.toscrape.com/../../../americas-cradle-of-quarterbacks-western-pennsylvanias-football-factory-from-johnny-unitas-to-joe-montana_974/index.html\n",
      "URL in for loop:  http://books.toscrape.com/../childrens_11/index.html\n",
      "URL in for loop:  http://books.toscrape.com/../parenting_28/index.html\n",
      "URL in for loop:  http://books.toscrape.com/../../../the-coming-woman-a-novel-based-on-the-life-of-the-infamous-feminist-victoria-woodhull_993/index.html\n",
      "URL in for loop:  http://books.toscrape.com/../spirituality_39/index.html\n",
      "URL in for loop:  http://books.toscrape.com/../short-stories_45/index.html\n",
      "URL in for loop:  http://books.toscrape.com/../romance_8/index.html\n",
      "URL in for loop:  http://books.toscrape.com/../../../the-inefficiency-assassin-time-management-tactics-for-working-smarter-not-longer_935/index.html\n",
      "URL in for loop:  http://books.toscrape.com/../classics_6/index.html\n",
      "URL in for loop:  http://books.toscrape.com/../../../bossypants_883/index.html\n",
      "URL in for loop:  http://books.toscrape.com/../suspense_44/index.html\n",
      "URL in for loop:  http://books.toscrape.com/../young-adult_21/index.html\n",
      "URL in for loop:  http://books.toscrape.com/../../../thirteen-reasons-why_866/index.html\n",
      "URL in for loop:  http://books.toscrape.com/../erotica_50/index.html\n",
      "URL in for loop:  http://books.toscrape.com/../../../maude-1883-1993she-grew-up-with-the-country_964/index.html\n",
      "URL in for loop:  http://books.toscrape.com/../nonfiction_13/index.html\n",
      "URL in for loop:  http://books.toscrape.com/../poetry_23/index.html\n",
      "URL in for loop:  http://books.toscrape.com/../paranormal_24/index.html\n",
      "URL in for loop:  http://books.toscrape.com/../../../the-kite-runner_847/index.html\n",
      "URL in for loop:  http://books.toscrape.com/../../../the-girl-on-the-train_844/index.html\n",
      "URL in for loop:  http://books.toscrape.com/../christian_43/index.html\n",
      "URL in for loop:  http://books.toscrape.com/../art_25/index.html\n",
      "urls:  72\n",
      "done_urls:  146\n",
      "(urls - done_urls):  0\n",
      "LOOP counter:  3\n",
      "--------------------\n"
     ]
    }
   ],
   "source": [
    "ctr = 0\n",
    "while (len(urls) > 0) and (ctr < 20):\n",
    "    \n",
    "    for url in urls:\n",
    "        html = sc.scrapeHTML(url, htmlCollection, done_urls)\n",
    "        pagelinks = sc.scrapeURL(html, startURL)\n",
    "        print(\"URL in for loop: \", url)\n",
    "    \n",
    "    # add links from page to urls set outside of for loop\n",
    "    for link in pagelinks:\n",
    "        urls.add(link)\n",
    "    print(\"urls: \", len(urls))\n",
    "    \n",
    "    # remove done_urls from todo urls\n",
    "    urls -= done_urls\n",
    "    print(\"done_urls: \", len(done_urls))\n",
    "    print(\"(urls - done_urls): \", len(urls))\n",
    "    ctr += 1\n",
    "    print(\"LOOP counter: \", ctr)\n",
    "    print(\"--------------------\")\n"
   ]
  },
  {
   "cell_type": "code",
   "execution_count": 6,
   "metadata": {},
   "outputs": [
    {
     "data": {
      "text/plain": [
       "set()"
      ]
     },
     "execution_count": 6,
     "metadata": {},
     "output_type": "execute_result"
    }
   ],
   "source": [
    "urls"
   ]
  },
  {
   "cell_type": "code",
   "execution_count": null,
   "metadata": {
    "collapsed": true
   },
   "outputs": [],
   "source": []
  }
 ],
 "metadata": {
  "kernelspec": {
   "display_name": "Python 3",
   "language": "python",
   "name": "python3"
  },
  "language_info": {
   "codemirror_mode": {
    "name": "ipython",
    "version": 3
   },
   "file_extension": ".py",
   "mimetype": "text/x-python",
   "name": "python",
   "nbconvert_exporter": "python",
   "pygments_lexer": "ipython3",
   "version": "3.6.3"
  }
 },
 "nbformat": 4,
 "nbformat_minor": 2
}
