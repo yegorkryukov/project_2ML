{
 "cells": [
  {
   "cell_type": "code",
   "execution_count": null,
   "metadata": {
    "collapsed": true
   },
   "outputs": [],
   "source": [
    "# dependencies\n",
    "import pymongo as pm\n",
    "import urllib\n",
    "from scrape import Scrape as sc\n",
    "from pprint import pprint\n",
    "from bs4 import BeautifulSoup as bs\n",
    "import re\n",
    "import time"
   ]
  },
  {
   "cell_type": "code",
   "execution_count": null,
   "metadata": {
    "collapsed": true
   },
   "outputs": [],
   "source": [
    "# Initialize PyMongo to work with MongoDBs\n",
    "conn = 'mongodb://localhost:27017'\n",
    "client = pm.MongoClient(conn)"
   ]
  },
  {
   "cell_type": "code",
   "execution_count": null,
   "metadata": {
    "collapsed": true
   },
   "outputs": [],
   "source": [
    "# define db and collections\n",
    "db = client.scrape_db\n",
    "\n",
    "# this collection will store all the HTML pages\n",
    "htmlCollection = db.HTML_pages"
   ]
  },
  {
   "cell_type": "code",
   "execution_count": 4,
   "metadata": {
    "collapsed": true
   },
   "outputs": [],
   "source": [
    "# startURL = 'http://books.toscrape.com/'\n",
    "# domain = 'toscrape.com'\n",
    "\n",
    "# declare top-level url and domain\n",
    "# startURL = 'https://billypenn.com/'\n",
    "# domain = 'billypenn.com'\n",
    "\n",
    "# startURL = 'https://theintercept.com/'\n",
    "# domain = 'theintercept.com'\n",
    "\n",
    "# startURL = 'https://www.wsj.com/'\n",
    "# domain = 'wsj.com/'\n",
    "\n",
    "# startURL = 'https://www.nationalreview.com/'\n",
    "# domain = 'nationalreview.com/'\n",
    "\n",
    "startURL = 'https://www.economist.com/'\n",
    "domain = 'economist.com/'\n",
    "\n",
    "# establish necessary data structures\n",
    "done_urls = set()\n",
    "external_urls = []\n",
    "urls = set()\n",
    "pagelinks = set()\n",
    "\n",
    "# seed with top-level url of website\n",
    "urls.add(startURL)"
   ]
  },
  {
   "cell_type": "code",
   "execution_count": 5,
   "metadata": {},
   "outputs": [
    {
     "data": {
      "text/plain": [
       "1"
      ]
     },
     "execution_count": 5,
     "metadata": {},
     "output_type": "execute_result"
    }
   ],
   "source": [
    "len(urls)"
   ]
  },
  {
   "cell_type": "code",
   "execution_count": 6,
   "metadata": {
    "scrolled": true
   },
   "outputs": [
    {
     "name": "stdout",
     "output_type": "stream",
     "text": [
      "URL in for loop:  https://www.economist.com/\n",
      "Elapsed time: 5.1374242305755615\n",
      "done_urls: 1\n",
      "Extracted links: 130\n",
      "\n",
      "Number of Urls: 1\n",
      "Process Time: 5.25428581237793\n",
      "--------------------------------------------------------------\n",
      "done_urls:  1\n",
      "(urls - done_urls):  101\n",
      "LOOP counter:  1\n",
      "--------------------\n",
      "URL in for loop:  https://www.economist.com/news/leaders/21744070-greatest-risk-pluralism-young-democracies-where-checks-and-balances-are-not-yet\n",
      "Elapsed time: 5.153255462646484\n",
      "done_urls: 2\n",
      "Extracted links: 140\n",
      "URL in for loop:  https://www.economist.com/free-email-newsletter-signup?destination=%2F\n",
      "Elapsed time: 5.099889039993286\n",
      "done_urls: 3\n",
      "Extracted links: 144\n",
      "URL in for loop:  https://www.economist.com/blogs/openfuture/2018/06/open-society-0\n",
      "Elapsed time: 5.190498113632202\n",
      "done_urls: 4\n",
      "Extracted links: 158\n",
      "URL in for loop:  https://www.economist.com/news/leaders/21744065-logic-irish-border-forcing-britain-towards-close-relationship-eu-britain\n",
      "Elapsed time: 6.879143238067627\n",
      "done_urls: 5\n",
      "Extracted links: 163\n",
      "URL in for loop:  https://www.economist.com/sections/americas\n",
      "Elapsed time: 5.133222341537476\n",
      "done_urls: 6\n",
      "Extracted links: 176\n",
      "URL in for loop:  http://marketingsolutions.economist.com/\n",
      "Elapsed time: 5.913715124130249\n",
      "done_urls: 7\n",
      "Extracted links: 2932\n",
      "URL in for loop:  https://www.economist.com/blogs/democracyinamerica\n",
      "Elapsed time: 5.12505316734314\n",
      "done_urls: 8\n",
      "Extracted links: 2953\n",
      "URL in for loop:  https://www.economist.com/latest-updates\n",
      "Elapsed time: 5.17328405380249\n",
      "done_urls: 9\n",
      "Extracted links: 2960\n",
      "URL in for loop:  https://www.economist.com/sections/leaders\n",
      "Elapsed time: 5.132359266281128\n",
      "done_urls: 10\n",
      "Extracted links: 2972\n",
      "URL in for loop:  https://www.economist.com/printedition/2018-06-16\n",
      "Elapsed time: 5.161373615264893\n",
      "done_urls: 11\n",
      "Extracted links: 3041\n",
      "URL in for loop:  https://www.economist.com/sections/europe\n",
      "Elapsed time: 5.13310694694519\n",
      "done_urls: 12\n",
      "Extracted links: 3051\n",
      "URL in for loop:  https://www.economist.com/blogs/gulliver/2018/06/you-have-caused-confusion-and-delay\n",
      "Elapsed time: 5.183197736740112\n",
      "done_urls: 13\n",
      "Extracted links: 3057\n",
      "URL in for loop:  https://www.economist.com/news/britain/21744046-one-five-low-paid-workers-paid-less-legal-minimum-wage-british-employers-find-it\n",
      "Elapsed time: 5.153636932373047\n",
      "done_urls: 14\n",
      "Extracted links: 3060\n",
      "URL in for loop:  https://www.economist.com/sections/international\n",
      "Elapsed time: 5.171019077301025\n",
      "done_urls: 15\n",
      "Extracted links: 3068\n",
      "URL in for loop:  https://www.economist.com/sections/special-reports\n",
      "Elapsed time: 5.111350774765015\n",
      "done_urls: 16\n",
      "Extracted links: 3096\n",
      "URL in for loop:  https://www.economist.com/news/books-and-arts/21744052-inner-level-authors-spirit-level-argue-it-does-does-inequality\n",
      "Elapsed time: 5.22690224647522\n",
      "done_urls: 17\n",
      "Extracted links: 3100\n",
      "URL in for loop:  https://www.economist.com/help/accessibilitypolicy\n",
      "Elapsed time: 5.127258062362671\n",
      "done_urls: 18\n",
      "Extracted links: 3159\n",
      "URL in for loop:  https://www.economist.com/blogs/erasmus\n",
      "Elapsed time: 5.739064931869507\n",
      "done_urls: 19\n",
      "Extracted links: 3180\n",
      "URL in for loop:  https://www.economist.com/digital\n",
      "Elapsed time: 6.172361850738525\n",
      "done_urls: 20\n",
      "Extracted links: 3208\n",
      "URL in for loop:  https://www.economist.com/blogs/gametheory/2018/06/lack-clear-chances\n",
      "Elapsed time: 6.197264194488525\n",
      "done_urls: 21\n",
      "Extracted links: 3215\n",
      "URL in for loop:  https://www.economist.com/newsletters\n"
     ]
    },
    {
     "ename": "KeyboardInterrupt",
     "evalue": "",
     "output_type": "error",
     "traceback": [
      "\u001b[1;31m---------------------------------------------------------------------------\u001b[0m",
      "\u001b[1;31mKeyboardInterrupt\u001b[0m                         Traceback (most recent call last)",
      "\u001b[1;32m<ipython-input-6-d89131d86bda>\u001b[0m in \u001b[0;36m<module>\u001b[1;34m()\u001b[0m\n\u001b[0;32m     17\u001b[0m \u001b[1;33m\u001b[0m\u001b[0m\n\u001b[0;32m     18\u001b[0m         \u001b[1;31m# governor to avoid being banned/blocked\u001b[0m\u001b[1;33m\u001b[0m\u001b[1;33m\u001b[0m\u001b[0m\n\u001b[1;32m---> 19\u001b[1;33m         \u001b[0mtime\u001b[0m\u001b[1;33m.\u001b[0m\u001b[0msleep\u001b[0m\u001b[1;33m(\u001b[0m\u001b[1;36m5\u001b[0m\u001b[1;33m)\u001b[0m   \u001b[1;31m# time governor\u001b[0m\u001b[1;33m\u001b[0m\u001b[0m\n\u001b[0m\u001b[0;32m     20\u001b[0m \u001b[1;33m\u001b[0m\u001b[0m\n\u001b[0;32m     21\u001b[0m         \u001b[1;31m# check for email and run all other links through scrape\u001b[0m\u001b[1;33m\u001b[0m\u001b[1;33m\u001b[0m\u001b[0m\n",
      "\u001b[1;31mKeyboardInterrupt\u001b[0m: "
     ]
    }
   ],
   "source": [
    "# counter for limiting functions\n",
    "ctr = 0\n",
    "\n",
    "# continue to loop through urls until we have scraped all valid\n",
    "# needed a while loop so we can modify size of urls through process\n",
    "while (len(urls) > 0) and ctr < 10:    #(len(done_urls) < 200):\n",
    "    \n",
    "    # timer for performance across url loops\n",
    "    forStart = time.time()\n",
    "    \n",
    "    # go through every url that has not been scraped yet\n",
    "    for url in urls:\n",
    "        print(\"URL in for loop: \", url)\n",
    "        \n",
    "        # timer for performance\n",
    "        start = time.time()\n",
    "        \n",
    "        # governor to avoid being banned/blocked\n",
    "        time.sleep(5)   # time governor\n",
    "        \n",
    "        # check for email and run all other links through scrape\n",
    "        html = sc.scrapeHTML(url)\n",
    "        \n",
    "        # end timer for performance and print status\n",
    "        end = time.time()\n",
    "        print(f'Elapsed time: {end - start}')\n",
    "        \n",
    "        # validate html and then add to the pagelinks all the links that were scraped\n",
    "        if html: \n",
    "            #print(f'Html scraped: {html[:50]}')\n",
    "            data = {\n",
    "                \"url\": url, \n",
    "                \"html\": html, \n",
    "                }\n",
    "\n",
    "            # insert dict into db document\n",
    "            try:\n",
    "                htmlCollection.insert_one(data)\n",
    "            except Exception as e:\n",
    "                print(f'htmlCollection Insert: {e}')\n",
    "                done_urls.add(url)\n",
    "                continue\n",
    "            \n",
    "            # record url in \"done\" collection\n",
    "            done_urls.add(url)\n",
    "            print(f'done_urls: {len(done_urls)}')\n",
    "            \n",
    "            pagelinks = pagelinks.union(sc.scrapeURL(html, url))\n",
    "            print(f'Extracted links: {len(pagelinks)}')\n",
    "        else:\n",
    "            done_urls.add(url)\n",
    "            print(f'Main Loop: HTML not extracted')\n",
    "        \n",
    "        ####################################################\n",
    "        # TODO: update done_urls, external and urls to CSV #\n",
    "        ####################################################\n",
    "        \n",
    "    # end timer of for loop\n",
    "    forEnd = time.time()\n",
    "    \n",
    "    # print status for testing\n",
    "    print()\n",
    "    print(f'Number of Urls: {len(urls)}')\n",
    "    print(f'Process Time: {forEnd -forStart}')\n",
    "    print('--------------------------------------------------------------')\n",
    "        \n",
    "        \n",
    "    \n",
    "    # add links from page to urls set outside of for loop\n",
    "    if html:\n",
    "        for link in pagelinks:\n",
    "            if domain in link:\n",
    "                urls.add(link)\n",
    "                # print(f\"Link in pagelinks: {link}\")\n",
    "            else:\n",
    "                external_urls.append(link)\n",
    "    \n",
    "    # remove done_urls from todo urls and increment counter\n",
    "    urls -= done_urls\n",
    "    ctr += 1\n",
    "    \n",
    "    # print status for testing\n",
    "    print(\"done_urls: \", len(done_urls))\n",
    "    print(\"(urls - done_urls): \", len(urls))\n",
    "    print(\"LOOP counter: \", ctr)\n",
    "    print(\"--------------------\")\n"
   ]
  },
  {
   "cell_type": "code",
   "execution_count": null,
   "metadata": {},
   "outputs": [],
   "source": [
    "counter = 0\n",
    "for url in urls:\n",
    "    print(f'URL #{counter}: {url}')"
   ]
  },
  {
   "cell_type": "code",
   "execution_count": null,
   "metadata": {
    "collapsed": true
   },
   "outputs": [],
   "source": []
  }
 ],
 "metadata": {
  "kernelspec": {
   "display_name": "Python 3",
   "language": "python",
   "name": "python3"
  },
  "language_info": {
   "codemirror_mode": {
    "name": "ipython",
    "version": 3
   },
   "file_extension": ".py",
   "mimetype": "text/x-python",
   "name": "python",
   "nbconvert_exporter": "python",
   "pygments_lexer": "ipython3",
   "version": "3.6.3"
  },
  "varInspector": {
   "cols": {
    "lenName": 16,
    "lenType": 16,
    "lenVar": 40
   },
   "kernels_config": {
    "python": {
     "delete_cmd_postfix": "",
     "delete_cmd_prefix": "del ",
     "library": "var_list.py",
     "varRefreshCmd": "print(var_dic_list())"
    },
    "r": {
     "delete_cmd_postfix": ") ",
     "delete_cmd_prefix": "rm(",
     "library": "var_list.r",
     "varRefreshCmd": "cat(var_dic_list()) "
    }
   },
   "types_to_exclude": [
    "module",
    "function",
    "builtin_function_or_method",
    "instance",
    "_Feature"
   ],
   "window_display": false
  }
 },
 "nbformat": 4,
 "nbformat_minor": 2
}
