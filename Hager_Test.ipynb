{
 "cells": [
  {
   "cell_type": "code",
   "execution_count": 1,
   "metadata": {},
   "outputs": [],
   "source": [
    "import pymongo as pm\n",
    "import urllib\n",
    "from scrape import scrape\n",
    "from pprint import pprint\n",
    "from bs4 import BeautifulSoup as bs\n",
    "import re"
   ]
  },
  {
   "cell_type": "code",
   "execution_count": 2,
   "metadata": {},
   "outputs": [],
   "source": [
    "# Initialize PyMongo to work with MongoDBs\n",
    "conn = 'mongodb://localhost:27017'\n",
    "client = pm.MongoClient(conn)"
   ]
  },
  {
   "cell_type": "code",
   "execution_count": 3,
   "metadata": {
    "collapsed": true
   },
   "outputs": [],
   "source": [
    "# define db and collection\n",
    "db = client.scrape_db\n",
    "collection = db.HTML_pages"
   ]
  },
  {
   "cell_type": "code",
   "execution_count": 4,
   "metadata": {},
   "outputs": [],
   "source": [
    "# arbitrary url for testing\n",
    "url = 'https://www.npr.org/sections/news/archive?date=6-30-2018'"
   ]
  },
  {
   "cell_type": "code",
   "execution_count": 5,
   "metadata": {},
   "outputs": [
    {
     "name": "stdout",
     "output_type": "stream",
     "text": [
      "-----\n",
      "['http://www.wbur.org/hereandnow', 'http://the1a.org/', 'http://latinousa.org/', 'http://onpoint.wbur.org/', 'http://www.cartalk.com', 'http://www.maximumfun.org/shows/bullseye', 'http://onlyagame.wbur.org/', 'http://storycorps.org', 'http://ethics.npr.org/', 'http://www.nprpresents.org/', 'http://studio1.npr.org', 'http://generationlisten.npr.org/', 'http://www.sciencesource.com/', 'http://www.sciencesource.com/', 'http://tours.npr.org/npr/Home/']\n",
      "-----\n"
     ]
    }
   ],
   "source": [
    "# use scrape function to input into database: returns html\n",
    "# built separately to input into loop\n",
    "# PRINT IS TEST IN SCRAPE METHOD\n",
    "html = scrape(url, collection)"
   ]
  },
  {
   "cell_type": "code",
   "execution_count": 6,
   "metadata": {},
   "outputs": [
    {
     "data": {
      "text/plain": [
       "b'<!doctype html><html class=\"no-js\" lang=\"en\"><head><script type=\"text/javascript\">(window.NREUM||(NR'"
      ]
     },
     "execution_count": 6,
     "metadata": {},
     "output_type": "execute_result"
    }
   ],
   "source": [
    "# test\n",
    "html[:100]"
   ]
  },
  {
   "cell_type": "code",
   "execution_count": 7,
   "metadata": {},
   "outputs": [],
   "source": [
    "# retrieve record from database by url\n",
    "record = collection.find_one({\"url\": url})"
   ]
  },
  {
   "cell_type": "code",
   "execution_count": 8,
   "metadata": {},
   "outputs": [
    {
     "data": {
      "text/plain": [
       "b'<!doctype html><html class=\"no-js\" lang=\"en\"><head><script>\\n   try {var _sf_startpt=(new Date()).get'"
      ]
     },
     "execution_count": 8,
     "metadata": {},
     "output_type": "execute_result"
    }
   ],
   "source": [
    "# test\n",
    "record['html'][:100]"
   ]
  },
  {
   "cell_type": "code",
   "execution_count": 9,
   "metadata": {},
   "outputs": [
    {
     "data": {
      "text/plain": [
       "'https://www.npr.org/sections/news/archive?date=6-30-2018'"
      ]
     },
     "execution_count": 9,
     "metadata": {},
     "output_type": "execute_result"
    }
   ],
   "source": [
    "# test\n",
    "record['url']"
   ]
  },
  {
   "cell_type": "code",
   "execution_count": 10,
   "metadata": {},
   "outputs": [],
   "source": [
    "# record['links']"
   ]
  },
  {
   "cell_type": "code",
   "execution_count": 17,
   "metadata": {},
   "outputs": [],
   "source": [
    "# pprint(record)"
   ]
  },
  {
   "cell_type": "code",
   "execution_count": 18,
   "metadata": {},
   "outputs": [],
   "source": [
    "# use soup to parse and retrieve links on web page\n",
    "soup = bs(html, 'lxml')\n",
    "links = []\n",
    "for link in soup.findAll('a', attrs={'href': re.compile(\"^http://\")}):\n",
    "    links.append(link.get('href'))"
   ]
  },
  {
   "cell_type": "code",
   "execution_count": 13,
   "metadata": {},
   "outputs": [
    {
     "name": "stdout",
     "output_type": "stream",
     "text": [
      "['http://www.wbur.org/hereandnow',\n",
      " 'http://the1a.org/',\n",
      " 'http://latinousa.org/',\n",
      " 'http://onpoint.wbur.org/',\n",
      " 'http://www.cartalk.com',\n",
      " 'http://www.maximumfun.org/shows/bullseye',\n",
      " 'http://onlyagame.wbur.org/',\n",
      " 'http://storycorps.org',\n",
      " 'http://ethics.npr.org/',\n",
      " 'http://www.nprpresents.org/',\n",
      " 'http://studio1.npr.org',\n",
      " 'http://generationlisten.npr.org/',\n",
      " 'http://www.sciencesource.com/',\n",
      " 'http://www.sciencesource.com/',\n",
      " 'http://tours.npr.org/npr/Home/']\n"
     ]
    }
   ],
   "source": [
    "pprint(links)"
   ]
  },
  {
   "cell_type": "code",
   "execution_count": 15,
   "metadata": {},
   "outputs": [
    {
     "ename": "TypeError",
     "evalue": "unhashable type: 'list'",
     "output_type": "error",
     "traceback": [
      "\u001b[1;31m---------------------------------------------------------------------------\u001b[0m",
      "\u001b[1;31mTypeError\u001b[0m                                 Traceback (most recent call last)",
      "\u001b[1;32m<ipython-input-15-6011980474a1>\u001b[0m in \u001b[0;36m<module>\u001b[1;34m()\u001b[0m\n\u001b[1;32m----> 1\u001b[1;33m \u001b[0mrecord\u001b[0m\u001b[1;33m[\u001b[0m\u001b[1;33m[\u001b[0m\u001b[1;34m'links'\u001b[0m\u001b[1;33m]\u001b[0m\u001b[1;33m]\u001b[0m\u001b[1;33m\u001b[0m\u001b[0m\n\u001b[0m",
      "\u001b[1;31mTypeError\u001b[0m: unhashable type: 'list'"
     ]
    }
   ],
   "source": [
    "record['links']"
   ]
  },
  {
   "cell_type": "code",
   "execution_count": null,
   "metadata": {
    "collapsed": true
   },
   "outputs": [],
   "source": []
  }
 ],
 "metadata": {
  "kernelspec": {
   "display_name": "Python 3",
   "language": "python",
   "name": "python3"
  },
  "language_info": {
   "codemirror_mode": {
    "name": "ipython",
    "version": 3
   },
   "file_extension": ".py",
   "mimetype": "text/x-python",
   "name": "python",
   "nbconvert_exporter": "python",
   "pygments_lexer": "ipython3",
   "version": "3.6.3"
  }
 },
 "nbformat": 4,
 "nbformat_minor": 2
}
